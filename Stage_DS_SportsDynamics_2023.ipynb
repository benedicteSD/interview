{
  "nbformat": 4,
  "nbformat_minor": 0,
  "metadata": {
    "colab": {
      "provenance": []
    },
    "kernelspec": {
      "name": "python3",
      "display_name": "Python 3"
    },
    "language_info": {
      "name": "python"
    }
  },
  "cells": [
    {
      "cell_type": "markdown",
      "source": [
        "### Exercice 1 - Aider Jack"
      ],
      "metadata": {
        "id": "aYq4hmpYvyoe"
      }
    },
    {
      "cell_type": "markdown",
      "source": [
        "L'objectif de cet exercice est d'aider Jack Sparrow à récupérer le plus rapidement possible ses trésors. Ils ont été transportés dans des caisses pour survivre à la traversée mais qui sont malheureusement enfouies sous de nombreuses autres caisses, celles-ci doivent être réorganisées.\n",
        "\n",
        "Le navire est équipé d'une grue géante capable de déplacer les caisses d'une pile à l'autre. Pour s'assurer qu'aucune caisse n'est écrasée ou ne tombe, le grutier les réarrange en suivant une série d'étapes soigneusement planifiées. Une fois les caisses réarrangées, les caisses souhaitées se trouveront au sommet de chaque pile.\n",
        "\n",
        "Le fichier d'entrée contient à la fois l'état initial des piles de caisse, ainsi que la procédure de réarrangement.\n",
        "\n",
        "        [D]        \n",
        "    [N] [C]    \n",
        "    [Z] [M] [P]\n",
        "     1   2   3\n",
        "    \n",
        "    Move 1 from 2 to 1\n",
        "    Move 3 from 1 to 3\n",
        "    Move 2 from 2 to 1\n",
        "    Move 1 from 1 to 2\n",
        "\n",
        "Dans cet exemple, il y a trois piles de caisses. La pile 1 contient deux caisses : la caisse Z est en bas et la caisse N est en haut. La pile 2 contient trois caisses : de bas en haut, il s'agit des caisses M, C et D. Enfin, la pile 3 contient une seule caisse, P.\n",
        "\n",
        "La procédure de réarrangement est ensuite donnée. À chaque étape de la procédure, une quantité de caisses est déplacée d'une pile à une autre. Lors de la première étape de la procédure de réarrangement ci-dessus, une caisse est déplacée de la pile 2 à la pile 1, ce qui donne la configuration suivante :\n",
        "\n",
        "    [D]        \n",
        "    [N] [C]    \n",
        "    [Z] [M] [P]\n",
        "     1   2   3\n",
        "Lors de la deuxième étape, trois caisses sont déplacées de la pile 1 à la pile 3. Les caisses sont déplacées une par une, de sorte que la première caisse à déplacer (D) se retrouve sous les deuxième et troisième caisses :\n",
        "\n",
        "            [Z]\n",
        "            [N]\n",
        "        [C] [D]  \n",
        "        [M] [P]\n",
        "     1   2   3\n",
        "\n",
        "Ensuite, les deux caisses sont déplacées de la pile 2 vers la pile 1. Une fois encore, comme les caisses sont déplacées une par une, la caisse C se retrouve sous la caisse M :\n",
        "\n",
        "            [Z]\n",
        "            [N]\n",
        "    [M]     [D]  \n",
        "    [C]     [P]\n",
        "     1   2   3\n",
        "\n",
        "Enfin, une caisse est déplacée de la pile 1 à la pile 2 :\n",
        "\n",
        "            [Z]\n",
        "            [N]\n",
        "            [D]  \n",
        "    [C] [M] [P]\n",
        "     1   2   3\n",
        "\n",
        "Dans cet exemple, les caisses supérieures sont C dans la pile 1, M dans la pile 2 et Z dans la pile 3. Vous devez donc les combiner et donner aux lutins le message *CMZ*.\n",
        "\n",
        "Une fois la procédure de réorganisation terminée, quelle caisse se retrouve au sommet de chaque pile ?"
      ],
      "metadata": {
        "id": "fBRYexTZw9T8"
      }
    },
    {
      "cell_type": "markdown",
      "source": [
        "Deux fichiers d'entrée sont mis à disposition : le jeu de données de test présenté ci-dessus (data_test.txt), ainsi que le jeu de données cible (data.txt)."
      ],
      "metadata": {
        "id": "svM_Hh_L599w"
      }
    },
    {
      "cell_type": "code",
      "execution_count": null,
      "metadata": {
        "cellView": "form",
        "id": "hiM1ln3_qyfq"
      },
      "outputs": [],
      "source": [
        "#@title Parsing\n",
        "def create_stack_from_input(filename):\n",
        "  with open(f'{filename}') as f:\n",
        "    lines = f.readlines()\n",
        "\n",
        "  number_of_char = 4\n",
        "  i = 0\n",
        "  number_of_stack = int(len(lines[0]) / number_of_char)\n",
        "  stacks = {}\n",
        "  for j in range(number_of_stack):\n",
        "    stacks[j+1] = []\n",
        "\n",
        "  while i == 0 or \"[\" in lines[i]:\n",
        "    current_line = lines[i].replace(\"\\n\", \" \")\n",
        "    for j in range(number_of_stack):\n",
        "      current_column = current_line[j*number_of_char:(j+1)*number_of_char].strip()\n",
        "      if len(current_column):\n",
        "        stacks[j+1].append(current_column[1]) \n",
        "    i += 1\n",
        "    \n",
        "  return stacks, lines[i+2:]"
      ]
    },
    {
      "cell_type": "code",
      "source": [
        "stacks, instructions = create_stack_from_input(\"data_test.txt\")"
      ],
      "metadata": {
        "id": "XRYu-cEJwVQo",
        "outputId": "25cac475-ec3b-485f-8843-c46a2128a40a",
        "colab": {
          "base_uri": "https://localhost:8080/",
          "height": 338
        }
      },
      "execution_count": null,
      "outputs": [
        {
          "output_type": "error",
          "ename": "FileNotFoundError",
          "evalue": "ignored",
          "traceback": [
            "\u001b[0;31m---------------------------------------------------------------------------\u001b[0m",
            "\u001b[0;31mFileNotFoundError\u001b[0m                         Traceback (most recent call last)",
            "\u001b[0;32m<ipython-input-3-dd7bb825e50e>\u001b[0m in \u001b[0;36m<cell line: 1>\u001b[0;34m()\u001b[0m\n\u001b[0;32m----> 1\u001b[0;31m \u001b[0mstacks\u001b[0m\u001b[0;34m,\u001b[0m \u001b[0minstructions\u001b[0m \u001b[0;34m=\u001b[0m \u001b[0mcreate_stack_from_input\u001b[0m\u001b[0;34m(\u001b[0m\u001b[0;34m\"data_test.txt\"\u001b[0m\u001b[0;34m)\u001b[0m\u001b[0;34m\u001b[0m\u001b[0;34m\u001b[0m\u001b[0m\n\u001b[0m",
            "\u001b[0;32m<ipython-input-2-c984711225a4>\u001b[0m in \u001b[0;36mcreate_stack_from_input\u001b[0;34m(filename)\u001b[0m\n\u001b[1;32m      1\u001b[0m \u001b[0;31m#@title Parsing\u001b[0m\u001b[0;34m\u001b[0m\u001b[0;34m\u001b[0m\u001b[0m\n\u001b[1;32m      2\u001b[0m \u001b[0;32mdef\u001b[0m \u001b[0mcreate_stack_from_input\u001b[0m\u001b[0;34m(\u001b[0m\u001b[0mfilename\u001b[0m\u001b[0;34m)\u001b[0m\u001b[0;34m:\u001b[0m\u001b[0;34m\u001b[0m\u001b[0;34m\u001b[0m\u001b[0m\n\u001b[0;32m----> 3\u001b[0;31m   \u001b[0;32mwith\u001b[0m \u001b[0mopen\u001b[0m\u001b[0;34m(\u001b[0m\u001b[0;34mf'{filename}'\u001b[0m\u001b[0;34m)\u001b[0m \u001b[0;32mas\u001b[0m \u001b[0mf\u001b[0m\u001b[0;34m:\u001b[0m\u001b[0;34m\u001b[0m\u001b[0;34m\u001b[0m\u001b[0m\n\u001b[0m\u001b[1;32m      4\u001b[0m     \u001b[0mlines\u001b[0m \u001b[0;34m=\u001b[0m \u001b[0mf\u001b[0m\u001b[0;34m.\u001b[0m\u001b[0mreadlines\u001b[0m\u001b[0;34m(\u001b[0m\u001b[0;34m)\u001b[0m\u001b[0;34m\u001b[0m\u001b[0;34m\u001b[0m\u001b[0m\n\u001b[1;32m      5\u001b[0m \u001b[0;34m\u001b[0m\u001b[0m\n",
            "\u001b[0;31mFileNotFoundError\u001b[0m: [Errno 2] No such file or directory: 'data_test.txt'"
          ]
        }
      ]
    },
    {
      "cell_type": "code",
      "source": [
        "stacks"
      ],
      "metadata": {
        "colab": {
          "base_uri": "https://localhost:8080/"
        },
        "id": "si7EGbWDwYID",
        "outputId": "571b6112-fdf4-4108-c09e-99d0675126ac"
      },
      "execution_count": null,
      "outputs": [
        {
          "output_type": "execute_result",
          "data": {
            "text/plain": [
              "{1: ['N', 'Z'], 2: ['D', 'C', 'M'], 3: ['P']}"
            ]
          },
          "metadata": {},
          "execution_count": 42
        }
      ]
    },
    {
      "cell_type": "code",
      "source": [
        "instructions"
      ],
      "metadata": {
        "colab": {
          "base_uri": "https://localhost:8080/"
        },
        "id": "0bgLgp-OwCtL",
        "outputId": "bfee5462-7abe-4f09-97bd-cbbd0353496e"
      },
      "execution_count": null,
      "outputs": [
        {
          "output_type": "execute_result",
          "data": {
            "text/plain": [
              "['move 1 from 2 to 1\\n',\n",
              " 'move 3 from 1 to 3\\n',\n",
              " 'move 2 from 2 to 1\\n',\n",
              " 'move 1 from 1 to 2']"
            ]
          },
          "metadata": {},
          "execution_count": 43
        }
      ]
    },
    {
      "cell_type": "markdown",
      "source": [
        "## Exercice 2 - Les ascenseurs"
      ],
      "metadata": {
        "id": "CFMi5-tL4eHD"
      }
    },
    {
      "cell_type": "markdown",
      "source": [
        "xxx"
      ],
      "metadata": {
        "id": "hwU7yJzi4hJS"
      }
    }
  ]
}